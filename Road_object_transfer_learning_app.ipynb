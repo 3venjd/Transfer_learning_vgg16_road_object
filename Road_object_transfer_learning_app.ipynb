{
  "nbformat": 4,
  "nbformat_minor": 0,
  "metadata": {
    "colab": {
      "name": "Road_object_transfer_learning_app.ipynb",
      "provenance": [],
      "collapsed_sections": [],
      "include_colab_link": true
    },
    "kernelspec": {
      "name": "python3",
      "display_name": "Python 3"
    }
  },
  "cells": [
    {
      "cell_type": "markdown",
      "metadata": {
        "id": "view-in-github",
        "colab_type": "text"
      },
      "source": [
        "<a href=\"https://colab.research.google.com/github/3venjd/Transfer_learning_vgg16_road_object/blob/main/Road_object_transfer_learning_app.ipynb\" target=\"_parent\"><img src=\"https://colab.research.google.com/assets/colab-badge.svg\" alt=\"Open In Colab\"/></a>"
      ]
    },
    {
      "cell_type": "code",
      "metadata": {
        "id": "KnXm_eIQh-xh",
        "outputId": "e391976e-81ba-4e7f-ee24-84895a65a22e",
        "colab": {
          "base_uri": "https://localhost:8080/",
          "height": 34
        }
      },
      "source": [
        "from google.colab import drive\n",
        "drive.mount('/content/drive')"
      ],
      "execution_count": null,
      "outputs": [
        {
          "output_type": "stream",
          "text": [
            "Mounted at /content/drive\n"
          ],
          "name": "stdout"
        }
      ]
    },
    {
      "cell_type": "code",
      "metadata": {
        "id": "B_at33YxUSuV",
        "outputId": "23092609-3b3d-4673-894e-b006ac6e6e09",
        "colab": {
          "base_uri": "https://localhost:8080/",
          "height": 34
        }
      },
      "source": [
        "cd /content/drive/My Drive/Colab Notebooks/Jimenez Evelio/17) Transfer Learning"
      ],
      "execution_count": null,
      "outputs": [
        {
          "output_type": "stream",
          "text": [
            "/content/drive/My Drive/Colab Notebooks/Jimenez Evelio/17) Transfer Learning\n"
          ],
          "name": "stdout"
        }
      ]
    },
    {
      "cell_type": "code",
      "metadata": {
        "id": "Zn6Y1VZt7URt"
      },
      "source": [
        "import numpy as np\n",
        "from tensorflow import data\n",
        "import tensorflow as tf\n",
        "import matplotlib.pyplot as plt\n",
        "import os\n",
        "from tensorflow.keras.preprocessing.image import ImageDataGenerator"
      ],
      "execution_count": null,
      "outputs": []
    },
    {
      "cell_type": "code",
      "metadata": {
        "id": "lFS4va_FUGX1"
      },
      "source": [
        "Image_Generator = ImageDataGenerator(rescale = 1./255, \n",
        "                                     rotation_range=45, \n",
        "                                     width_shift_range=.15, \n",
        "                                     height_shift_range=.15, \n",
        "                                     horizontal_flip=True, \n",
        "                                     zoom_range=0.5,\n",
        "                                     validation_split = 0.2)"
      ],
      "execution_count": null,
      "outputs": []
    },
    {
      "cell_type": "code",
      "metadata": {
        "id": "Se1oGe4xN030"
      },
      "source": [
        "base_dir = '/content/drive/My Drive/Colab Notebooks/Jimenez Evelio/14-15) Redes Neuronales Convolucionales/data_set_Actores Viales'"
      ],
      "execution_count": null,
      "outputs": []
    },
    {
      "cell_type": "code",
      "metadata": {
        "id": "64XdXS9-Qcg9",
        "outputId": "c71bd0f7-75a4-45a4-fcf1-01ee6562c1f6",
        "colab": {
          "base_uri": "https://localhost:8080/",
          "height": 34
        }
      },
      "source": [
        "train_data = Image_Generator.flow_from_directory(batch_size = 100,\n",
        "                                                 directory = base_dir,\n",
        "                                                 shuffle = True,\n",
        "                                                 target_size = (224,224),\n",
        "                                                 class_mode = 'categorical',\n",
        "                                                 subset = 'training')"
      ],
      "execution_count": null,
      "outputs": [
        {
          "output_type": "stream",
          "text": [
            "Found 8574 images belonging to 12 classes.\n"
          ],
          "name": "stdout"
        }
      ]
    },
    {
      "cell_type": "code",
      "metadata": {
        "id": "IpzcxApYVBrD",
        "outputId": "868dd261-e3d5-4bd7-9c96-fa913e3eb378",
        "colab": {
          "base_uri": "https://localhost:8080/",
          "height": 34
        }
      },
      "source": [
        "val_data = Image_Generator.flow_from_directory(batch_size = 100,\n",
        "                                               directory = base_dir,\n",
        "                                               target_size = (224,224),\n",
        "                                               class_mode = 'categorical',\n",
        "                                               subset = 'validation')"
      ],
      "execution_count": null,
      "outputs": [
        {
          "output_type": "stream",
          "text": [
            "Found 2137 images belonging to 12 classes.\n"
          ],
          "name": "stdout"
        }
      ]
    },
    {
      "cell_type": "code",
      "metadata": {
        "id": "j0qn-ktIwnIb"
      },
      "source": [
        "img = tf.keras.preprocessing.image.load_img(\n",
        "    base_dir + '/bus/bus1.jpg', grayscale=False, color_mode=\"rgb\", target_size=None, interpolation=\"nearest\"\n",
        ")"
      ],
      "execution_count": null,
      "outputs": []
    },
    {
      "cell_type": "code",
      "metadata": {
        "id": "Mbh3CxeFpbX6",
        "outputId": "8de7f784-2ca7-42dd-8a33-64a8a32a1cdc",
        "colab": {
          "base_uri": "https://localhost:8080/",
          "height": 34
        }
      },
      "source": [
        "img.size"
      ],
      "execution_count": null,
      "outputs": [
        {
          "output_type": "execute_result",
          "data": {
            "text/plain": [
              "(256, 256)"
            ]
          },
          "metadata": {
            "tags": []
          },
          "execution_count": 9
        }
      ]
    },
    {
      "cell_type": "code",
      "metadata": {
        "id": "VX2QJYwxzBQM",
        "outputId": "cdfbfaa2-305c-4d7e-a720-1616d36872b7",
        "colab": {
          "base_uri": "https://localhost:8080/",
          "height": 221
        }
      },
      "source": [
        "train_data.class_indices"
      ],
      "execution_count": null,
      "outputs": [
        {
          "output_type": "execute_result",
          "data": {
            "text/plain": [
              "{'Carriage': 0,\n",
              " 'Cyclist': 1,\n",
              " 'Pedestrians': 2,\n",
              " 'Road Signs': 3,\n",
              " 'bus': 4,\n",
              " 'crosswalks': 5,\n",
              " 'fireEgine': 6,\n",
              " 'motorcycle': 7,\n",
              " 'policecar': 8,\n",
              " 'skateboard': 9,\n",
              " 'taxi': 10,\n",
              " 'traffic light': 11}"
            ]
          },
          "metadata": {
            "tags": []
          },
          "execution_count": 10
        }
      ]
    },
    {
      "cell_type": "code",
      "metadata": {
        "id": "cmsAq9W_C8Ow",
        "outputId": "5644a11f-6d1b-4996-fd92-144d5d92a3ae",
        "colab": {
          "base_uri": "https://localhost:8080/",
          "height": 34
        }
      },
      "source": [
        "val_data.labels"
      ],
      "execution_count": null,
      "outputs": [
        {
          "output_type": "execute_result",
          "data": {
            "text/plain": [
              "array([ 0,  0,  0, ..., 11, 11, 11], dtype=int32)"
            ]
          },
          "metadata": {
            "tags": []
          },
          "execution_count": 11
        }
      ]
    },
    {
      "cell_type": "code",
      "metadata": {
        "id": "hQqVbHyS9S2D"
      },
      "source": [
        "IMG_SHAPE = 224"
      ],
      "execution_count": null,
      "outputs": []
    },
    {
      "cell_type": "code",
      "metadata": {
        "id": "nHEKtZAyzBAX",
        "outputId": "1060eaea-e086-4cb8-9618-1448a185d86a",
        "colab": {
          "base_uri": "https://localhost:8080/",
          "height": 969
        }
      },
      "source": [
        "from tensorflow import keras\n",
        "from tensorflow.keras.applications.vgg16 import VGG16, decode_predictions \n",
        "\n",
        "HEIGHT, WIDTH, CHANNELS = (IMG_SHAPE,IMG_SHAPE,3) # el tamaño con el que se entrenó VGG16\n",
        "input_t = keras.Input(shape=(HEIGHT, WIDTH, CHANNELS))\n",
        "VGG16_model = VGG16(weights='imagenet', include_top=True, input_tensor=input_t) # Se carga el modelo junto con los pesos preentrenados\n",
        "VGG16_model.summary()"
      ],
      "execution_count": null,
      "outputs": [
        {
          "output_type": "stream",
          "text": [
            "Downloading data from https://storage.googleapis.com/tensorflow/keras-applications/vgg16/vgg16_weights_tf_dim_ordering_tf_kernels.h5\n",
            "553467904/553467096 [==============================] - 4s 0us/step\n",
            "Model: \"vgg16\"\n",
            "_________________________________________________________________\n",
            "Layer (type)                 Output Shape              Param #   \n",
            "=================================================================\n",
            "input_1 (InputLayer)         [(None, 224, 224, 3)]     0         \n",
            "_________________________________________________________________\n",
            "block1_conv1 (Conv2D)        (None, 224, 224, 64)      1792      \n",
            "_________________________________________________________________\n",
            "block1_conv2 (Conv2D)        (None, 224, 224, 64)      36928     \n",
            "_________________________________________________________________\n",
            "block1_pool (MaxPooling2D)   (None, 112, 112, 64)      0         \n",
            "_________________________________________________________________\n",
            "block2_conv1 (Conv2D)        (None, 112, 112, 128)     73856     \n",
            "_________________________________________________________________\n",
            "block2_conv2 (Conv2D)        (None, 112, 112, 128)     147584    \n",
            "_________________________________________________________________\n",
            "block2_pool (MaxPooling2D)   (None, 56, 56, 128)       0         \n",
            "_________________________________________________________________\n",
            "block3_conv1 (Conv2D)        (None, 56, 56, 256)       295168    \n",
            "_________________________________________________________________\n",
            "block3_conv2 (Conv2D)        (None, 56, 56, 256)       590080    \n",
            "_________________________________________________________________\n",
            "block3_conv3 (Conv2D)        (None, 56, 56, 256)       590080    \n",
            "_________________________________________________________________\n",
            "block3_pool (MaxPooling2D)   (None, 28, 28, 256)       0         \n",
            "_________________________________________________________________\n",
            "block4_conv1 (Conv2D)        (None, 28, 28, 512)       1180160   \n",
            "_________________________________________________________________\n",
            "block4_conv2 (Conv2D)        (None, 28, 28, 512)       2359808   \n",
            "_________________________________________________________________\n",
            "block4_conv3 (Conv2D)        (None, 28, 28, 512)       2359808   \n",
            "_________________________________________________________________\n",
            "block4_pool (MaxPooling2D)   (None, 14, 14, 512)       0         \n",
            "_________________________________________________________________\n",
            "block5_conv1 (Conv2D)        (None, 14, 14, 512)       2359808   \n",
            "_________________________________________________________________\n",
            "block5_conv2 (Conv2D)        (None, 14, 14, 512)       2359808   \n",
            "_________________________________________________________________\n",
            "block5_conv3 (Conv2D)        (None, 14, 14, 512)       2359808   \n",
            "_________________________________________________________________\n",
            "block5_pool (MaxPooling2D)   (None, 7, 7, 512)         0         \n",
            "_________________________________________________________________\n",
            "flatten (Flatten)            (None, 25088)             0         \n",
            "_________________________________________________________________\n",
            "fc1 (Dense)                  (None, 4096)              102764544 \n",
            "_________________________________________________________________\n",
            "fc2 (Dense)                  (None, 4096)              16781312  \n",
            "_________________________________________________________________\n",
            "predictions (Dense)          (None, 1000)              4097000   \n",
            "=================================================================\n",
            "Total params: 138,357,544\n",
            "Trainable params: 138,357,544\n",
            "Non-trainable params: 0\n",
            "_________________________________________________________________\n"
          ],
          "name": "stdout"
        }
      ]
    },
    {
      "cell_type": "code",
      "metadata": {
        "id": "rCdRqzKPnuQD",
        "outputId": "db4b8d6a-2b57-4119-8228-31bb0d9f523f",
        "colab": {
          "base_uri": "https://localhost:8080/",
          "height": 799
        }
      },
      "source": [
        "from tensorflow.keras.models import Model, Sequential\n",
        "from tensorflow.keras.layers import Dense, Flatten, Dropout, Conv2D, MaxPooling2D\n",
        "\n",
        "middle = VGG16_model.get_layer('block5_pool')\n",
        "newmodel = Model(inputs = input_t, outputs=middle.output)\n",
        "newmodel.summary()"
      ],
      "execution_count": null,
      "outputs": [
        {
          "output_type": "stream",
          "text": [
            "Model: \"functional_1\"\n",
            "_________________________________________________________________\n",
            "Layer (type)                 Output Shape              Param #   \n",
            "=================================================================\n",
            "input_1 (InputLayer)         [(None, 224, 224, 3)]     0         \n",
            "_________________________________________________________________\n",
            "block1_conv1 (Conv2D)        (None, 224, 224, 64)      1792      \n",
            "_________________________________________________________________\n",
            "block1_conv2 (Conv2D)        (None, 224, 224, 64)      36928     \n",
            "_________________________________________________________________\n",
            "block1_pool (MaxPooling2D)   (None, 112, 112, 64)      0         \n",
            "_________________________________________________________________\n",
            "block2_conv1 (Conv2D)        (None, 112, 112, 128)     73856     \n",
            "_________________________________________________________________\n",
            "block2_conv2 (Conv2D)        (None, 112, 112, 128)     147584    \n",
            "_________________________________________________________________\n",
            "block2_pool (MaxPooling2D)   (None, 56, 56, 128)       0         \n",
            "_________________________________________________________________\n",
            "block3_conv1 (Conv2D)        (None, 56, 56, 256)       295168    \n",
            "_________________________________________________________________\n",
            "block3_conv2 (Conv2D)        (None, 56, 56, 256)       590080    \n",
            "_________________________________________________________________\n",
            "block3_conv3 (Conv2D)        (None, 56, 56, 256)       590080    \n",
            "_________________________________________________________________\n",
            "block3_pool (MaxPooling2D)   (None, 28, 28, 256)       0         \n",
            "_________________________________________________________________\n",
            "block4_conv1 (Conv2D)        (None, 28, 28, 512)       1180160   \n",
            "_________________________________________________________________\n",
            "block4_conv2 (Conv2D)        (None, 28, 28, 512)       2359808   \n",
            "_________________________________________________________________\n",
            "block4_conv3 (Conv2D)        (None, 28, 28, 512)       2359808   \n",
            "_________________________________________________________________\n",
            "block4_pool (MaxPooling2D)   (None, 14, 14, 512)       0         \n",
            "_________________________________________________________________\n",
            "block5_conv1 (Conv2D)        (None, 14, 14, 512)       2359808   \n",
            "_________________________________________________________________\n",
            "block5_conv2 (Conv2D)        (None, 14, 14, 512)       2359808   \n",
            "_________________________________________________________________\n",
            "block5_conv3 (Conv2D)        (None, 14, 14, 512)       2359808   \n",
            "_________________________________________________________________\n",
            "block5_pool (MaxPooling2D)   (None, 7, 7, 512)         0         \n",
            "=================================================================\n",
            "Total params: 14,714,688\n",
            "Trainable params: 14,714,688\n",
            "Non-trainable params: 0\n",
            "_________________________________________________________________\n"
          ],
          "name": "stdout"
        }
      ]
    },
    {
      "cell_type": "code",
      "metadata": {
        "id": "kKaowCQyazJw",
        "outputId": "f7ca5af2-c12e-4ef1-c1db-f1a34873c96b",
        "colab": {
          "base_uri": "https://localhost:8080/",
          "height": 459
        }
      },
      "source": [
        "from tensorflow.keras.models import Model, Sequential\n",
        "from tensorflow.keras.layers import Dense, Flatten, Dropout, Conv2D, MaxPooling2D\n",
        "\n",
        "middle = VGG16_model.get_layer('block5_pool')\n",
        "newmodel = Model(inputs = input_t, outputs=middle.output)\n",
        "\n",
        "#create model\n",
        "model = Sequential()\n",
        "#add model layers\n",
        "model.add(newmodel)\n",
        "model.add(Conv2D(32, 3, padding='same', activation='relu'))\n",
        "model.add(MaxPooling2D(pool_size=(2, 2)))\n",
        "model.add(Conv2D(64, 3, padding='same', activation='relu'))\n",
        "model.add(MaxPooling2D(pool_size=(2, 2)))\n",
        "model.add(Flatten())\n",
        "model.add(Dense(512, activation='relu'))\n",
        "model.add(Dropout(0.2))\n",
        "model.add(Dense(12, activation='softmax'))\n",
        "\n",
        "for layer in model.layers[:-8]:\n",
        "  layer.trainable = False\n",
        "\n",
        "model.summary()"
      ],
      "execution_count": null,
      "outputs": [
        {
          "output_type": "stream",
          "text": [
            "Model: \"sequential\"\n",
            "_________________________________________________________________\n",
            "Layer (type)                 Output Shape              Param #   \n",
            "=================================================================\n",
            "functional_3 (Functional)    (None, 7, 7, 512)         14714688  \n",
            "_________________________________________________________________\n",
            "conv2d (Conv2D)              (None, 7, 7, 32)          147488    \n",
            "_________________________________________________________________\n",
            "max_pooling2d (MaxPooling2D) (None, 3, 3, 32)          0         \n",
            "_________________________________________________________________\n",
            "conv2d_1 (Conv2D)            (None, 3, 3, 64)          18496     \n",
            "_________________________________________________________________\n",
            "max_pooling2d_1 (MaxPooling2 (None, 1, 1, 64)          0         \n",
            "_________________________________________________________________\n",
            "flatten (Flatten)            (None, 64)                0         \n",
            "_________________________________________________________________\n",
            "dense (Dense)                (None, 512)               33280     \n",
            "_________________________________________________________________\n",
            "dropout (Dropout)            (None, 512)               0         \n",
            "_________________________________________________________________\n",
            "dense_1 (Dense)              (None, 12)                6156      \n",
            "=================================================================\n",
            "Total params: 14,920,108\n",
            "Trainable params: 205,420\n",
            "Non-trainable params: 14,714,688\n",
            "_________________________________________________________________\n"
          ],
          "name": "stdout"
        }
      ]
    },
    {
      "cell_type": "code",
      "metadata": {
        "id": "MMMgN79RbrUF"
      },
      "source": [
        "batch_size = 100\n",
        "epochs = 20\n",
        "model.compile(optimizer = keras.optimizers.RMSprop(learning_rate = 0.001), \n",
        "              loss = keras.losses.mean_squared_error, \n",
        "              metrics=['accuracy']\n",
        "             )"
      ],
      "execution_count": null,
      "outputs": []
    },
    {
      "cell_type": "code",
      "metadata": {
        "id": "sY--4KgRvyR2",
        "outputId": "02d10906-e044-4b21-8fdc-9dcea3c0a05a",
        "colab": {
          "base_uri": "https://localhost:8080/",
          "height": 697
        }
      },
      "source": [
        "history = model.fit(\n",
        "    train_data,\n",
        "    steps_per_epoch=int(np.ceil(train_data.labels.shape[0] / float(batch_size))), \n",
        "    epochs=epochs,\n",
        "    validation_data = val_data,\n",
        "    validation_steps=int(np.ceil(val_data.labels.shape[0] / float(batch_size)))\n",
        ")"
      ],
      "execution_count": null,
      "outputs": [
        {
          "output_type": "stream",
          "text": [
            "Epoch 1/20\n",
            "86/86 [==============================] - 178s 2s/step - loss: 0.0646 - accuracy: 0.3319 - val_loss: 0.0561 - val_accuracy: 0.4310\n",
            "Epoch 2/20\n",
            "86/86 [==============================] - 178s 2s/step - loss: 0.0501 - accuracy: 0.5245 - val_loss: 0.0469 - val_accuracy: 0.5508\n",
            "Epoch 3/20\n",
            "86/86 [==============================] - 176s 2s/step - loss: 0.0450 - accuracy: 0.5776 - val_loss: 0.0396 - val_accuracy: 0.6149\n",
            "Epoch 4/20\n",
            "86/86 [==============================] - 178s 2s/step - loss: 0.0427 - accuracy: 0.6019 - val_loss: 0.0379 - val_accuracy: 0.6392\n",
            "Epoch 5/20\n",
            "86/86 [==============================] - 175s 2s/step - loss: 0.0394 - accuracy: 0.6430 - val_loss: 0.0397 - val_accuracy: 0.6261\n",
            "Epoch 6/20\n",
            "86/86 [==============================] - 175s 2s/step - loss: 0.0392 - accuracy: 0.6407 - val_loss: 0.0424 - val_accuracy: 0.6055\n",
            "Epoch 7/20\n",
            "86/86 [==============================] - 178s 2s/step - loss: 0.0376 - accuracy: 0.6572 - val_loss: 0.0365 - val_accuracy: 0.6664\n",
            "Epoch 8/20\n",
            "86/86 [==============================] - 178s 2s/step - loss: 0.0367 - accuracy: 0.6742 - val_loss: 0.0380 - val_accuracy: 0.6439\n",
            "Epoch 9/20\n",
            "86/86 [==============================] - 178s 2s/step - loss: 0.0347 - accuracy: 0.6945 - val_loss: 0.0339 - val_accuracy: 0.6986\n",
            "Epoch 10/20\n",
            "86/86 [==============================] - 177s 2s/step - loss: 0.0351 - accuracy: 0.6903 - val_loss: 0.0327 - val_accuracy: 0.6968\n",
            "Epoch 11/20\n",
            "86/86 [==============================] - 178s 2s/step - loss: 0.0338 - accuracy: 0.7020 - val_loss: 0.0326 - val_accuracy: 0.7052\n",
            "Epoch 12/20\n",
            "86/86 [==============================] - 177s 2s/step - loss: 0.0331 - accuracy: 0.7084 - val_loss: 0.0355 - val_accuracy: 0.6921\n",
            "Epoch 13/20\n",
            "86/86 [==============================] - 176s 2s/step - loss: 0.0328 - accuracy: 0.7139 - val_loss: 0.0355 - val_accuracy: 0.6766\n",
            "Epoch 14/20\n",
            "86/86 [==============================] - 174s 2s/step - loss: 0.0320 - accuracy: 0.7209 - val_loss: 0.0350 - val_accuracy: 0.6851\n",
            "Epoch 15/20\n",
            "86/86 [==============================] - 177s 2s/step - loss: 0.0313 - accuracy: 0.7257 - val_loss: 0.0323 - val_accuracy: 0.7071\n",
            "Epoch 16/20\n",
            "86/86 [==============================] - 178s 2s/step - loss: 0.0313 - accuracy: 0.7254 - val_loss: 0.0328 - val_accuracy: 0.7075\n",
            "Epoch 17/20\n",
            "86/86 [==============================] - 177s 2s/step - loss: 0.0309 - accuracy: 0.7288 - val_loss: 0.0332 - val_accuracy: 0.7057\n",
            "Epoch 18/20\n",
            "86/86 [==============================] - 177s 2s/step - loss: 0.0308 - accuracy: 0.7330 - val_loss: 0.0310 - val_accuracy: 0.7206\n",
            "Epoch 19/20\n",
            "86/86 [==============================] - 176s 2s/step - loss: 0.0305 - accuracy: 0.7376 - val_loss: 0.0307 - val_accuracy: 0.7248\n",
            "Epoch 20/20\n",
            "86/86 [==============================] - 176s 2s/step - loss: 0.0297 - accuracy: 0.7433 - val_loss: 0.0324 - val_accuracy: 0.7169\n"
          ],
          "name": "stdout"
        }
      ]
    },
    {
      "cell_type": "code",
      "metadata": {
        "id": "b7Kiq-aTmZdV",
        "outputId": "c0b1310b-fa29-4a8c-ab83-20b3b5f52aa6",
        "colab": {
          "base_uri": "https://localhost:8080/",
          "height": 562
        }
      },
      "source": [
        "import matplotlib.pyplot as plt\n",
        "\n",
        "acc      = history.history['accuracy']\n",
        "val_acc  = history.history['val_accuracy']\n",
        "loss     = history.history['loss']\n",
        "val_loss = history.history['val_loss']\n",
        "\n",
        "epochs   = range(len(acc))\n",
        "\n",
        "\n",
        "# Plot training and validation accuracy per epoch\n",
        "plt.plot(epochs,acc)\n",
        "plt.plot(epochs,val_acc)\n",
        "plt.title('Training and validation accuracy')\n",
        "plt.figure()\n",
        "\n",
        "# Plot training and validation loss per epoch\n",
        "plt.plot(epochs,loss)\n",
        "plt.plot(epochs,val_loss)\n",
        "plt.title('Training and validation loss')"
      ],
      "execution_count": null,
      "outputs": [
        {
          "output_type": "execute_result",
          "data": {
            "text/plain": [
              "Text(0.5, 1.0, 'Training and validation loss')"
            ]
          },
          "metadata": {
            "tags": []
          },
          "execution_count": 59
        },
        {
          "output_type": "display_data",
          "data": {
            "image/png": "[encoded data removed]",
            "text/plain": [
              "<Figure size 432x288 with 1 Axes>"
            ]
          },
          "metadata": {
            "tags": [],
            "needs_background": "light"
          }
        },
        {
          "output_type": "display_data",
          "data": {
            "image/png": "[encoded data removed]",
            "text/plain": [
              "<Figure size 432x288 with 1 Axes>"
            ]
          },
          "metadata": {
            "tags": [],
            "needs_background": "light"
          }
        }
      ]
    },
    {
      "cell_type": "code",
      "metadata": {
        "id": "itvSHOs6Cz32"
      },
      "source": [
        "model.save('transfer_learning_vgg16_road.h5') # Salvar la arquitectura para poder usarla fuera de esta implementación"
      ],
      "execution_count": null,
      "outputs": []
    },
    {
      "cell_type": "code",
      "metadata": {
        "id": "Hy7Yjw1MF0v-",
        "outputId": "80037612-edd0-48cd-e7d3-5ed2b3dd8212",
        "colab": {
          "base_uri": "https://localhost:8080/",
          "height": 459
        }
      },
      "source": [
        "new_model = tf.keras.models.load_model('transfer_learning_vgg16_road.h5')\n",
        "new_model.trainable = True\n",
        "new_model.summary()"
      ],
      "execution_count": null,
      "outputs": [
        {
          "output_type": "stream",
          "text": [
            "Model: \"sequential\"\n",
            "_________________________________________________________________\n",
            "Layer (type)                 Output Shape              Param #   \n",
            "=================================================================\n",
            "functional_3 (Functional)    (None, 8, 8, 512)         14714688  \n",
            "_________________________________________________________________\n",
            "conv2d (Conv2D)              (None, 8, 8, 512)         2359808   \n",
            "_________________________________________________________________\n",
            "conv2d_1 (Conv2D)            (None, 8, 8, 512)         2359808   \n",
            "_________________________________________________________________\n",
            "conv2d_2 (Conv2D)            (None, 8, 8, 512)         2359808   \n",
            "_________________________________________________________________\n",
            "max_pooling2d (MaxPooling2D) (None, 4, 4, 512)         0         \n",
            "_________________________________________________________________\n",
            "flatten (Flatten)            (None, 8192)              0         \n",
            "_________________________________________________________________\n",
            "dense (Dense)                (None, 512)               4194816   \n",
            "_________________________________________________________________\n",
            "dropout (Dropout)            (None, 512)               0         \n",
            "_________________________________________________________________\n",
            "dense_1 (Dense)              (None, 12)                6156      \n",
            "=================================================================\n",
            "Total params: 25,995,084\n",
            "Trainable params: 25,995,084\n",
            "Non-trainable params: 0\n",
            "_________________________________________________________________\n"
          ],
          "name": "stdout"
        }
      ]
    },
    {
      "cell_type": "markdown",
      "metadata": {
        "id": "78nGhOHeXug9"
      },
      "source": [
        "batch_size = 100\n",
        "epochs = 100\n",
        "model.compile(optimizer='adam', \n",
        "              loss='categorical_crossentropy', \n",
        "              metrics=['accuracy']\n",
        "             )\n",
        "\n",
        "\n",
        "Epoch 1/100\n",
        "\n",
        "    86/86 - 2604s 30s/step\n",
        "\n",
        "    loss: 1.9078 - accuracy: 0.3472 - val_loss: 1.2493 -val_accuracy: 0.5063\n",
        "\n",
        "Epoch 2/100\n",
        "    \n",
        "    86/86 222s 3s/step\n",
        "    loss: 1.2236 - accuracy: 0.5589 - val_loss: 1.1461 - val_accuracy: 0.5887\n",
        "\n",
        "\n",
        "Epoch 3/100\n",
        "\n",
        "    86/86 220s 3s/step\n",
        "    loss: 1.0678 - accuracy: 0.6401 - val_loss: 1.0145 - val_accuracy: 0.6462\n",
        "\n",
        "Epoch 4/100\n",
        "\n",
        "    86/86 221s 3s/step\n",
        "    loss: 0.9587 - accuracy: 0.6817 - val_loss: 0.8971 - val_accuracy: 0.6982\n",
        "\n",
        "Epoch 5/100\n",
        "\n",
        "\n",
        "    86/86 223s 3s/step\n",
        "    loss: 0.9101 - accuracy: 0.7019 - val_loss: 0.8735 - val_accuracy: 0.6982\n",
        "\n",
        "\n",
        "Epoch 6/100\n",
        "\n",
        "    86/86 223s 3s/step\n",
        "    loss: 0.8609 - accuracy: 0.7200 - val_loss: 0.8156 - val_accuracy: 0.7230\n",
        "\n",
        "Epoch 7/100\n",
        "\n",
        "    86/86 223s 3s/step\n",
        "    loss: 0.8105 - accuracy: 0.7405 - val_loss: 0.7967 - val_accuracy: 0.7291\n",
        "\n",
        "Epoch 8/100\n",
        "\n",
        "    86/86 221s 3s/step\n",
        "    loss: 0.8068 - accuracy: 0.7391 - val_loss: 0.8623 - val_accuracy: 0.7103\n",
        "\n",
        "Epoch 9/100\n",
        "\n",
        "    86/86 222s 3s/step\n",
        "    loss: 0.7567 - accuracy: 0.7537 - val_loss: 0.8569 - val_accuracy: 0.7117\n",
        "    \n",
        "Epoch 10/100\n",
        "\n",
        "\n",
        "    86/86 222s 3s/step\n",
        "    loss: 0.7511 - accuracy: 0.7540 - val_loss: 0.7452 - val_accuracy: 0.7496\n",
        "\n",
        "Epoch 11/100\n",
        "\n",
        "    86/86 221s 3s/step \n",
        "    loss: 0.7286 - accuracy: 0.7629 - val_loss: 0.8184 - val_accuracy: 0.7277\n",
        "\n",
        "Epoch 12/100\n",
        "\n",
        "    86/86 221s 3s/step \n",
        "    loss: 0.6961 - accuracy: 0.7658 - val_loss: 0.7619 - val_accuracy: 0.7454\n",
        "\n",
        "\n",
        "Epoch 13/100\n",
        "\n",
        "    86/86 221s 3s/step\n",
        "    loss: 0.7100 - accuracy: 0.7697 - val_loss: 0.7751 - val_accuracy: 0.7548\n",
        "\n",
        "Epoch 14/100\n",
        "\n",
        "    86/86 220s 3s/step \n",
        "    loss: 0.6728 - accuracy: 0.7840 - val_loss: 0.7152 - val_accuracy: 0.7670\n",
        "\n",
        "Epoch 15/100\n",
        "\n",
        "    86/86 218s 3s/step\n",
        "    loss: 0.6614 - accuracy: 0.7869 - val_loss: 0.7940 - val_accuracy: 0.7351\n",
        "\n",
        "Epoch 16/100\n",
        "\n",
        "    86/86 219s 3s/step\n",
        "    loss: 0.6605 - accuracy: 0.7904 - val_loss: 0.7169 - val_accuracy: 0.7599\n",
        "\n",
        "Epoch 17/100\n",
        "\n",
        "    86/86 220s 3s/step\n",
        "    loss: 0.6439 - accuracy: 0.7898 - val_loss: 0.7594 - val_accuracy: 0.7525\n",
        "\n",
        "Epoch 18/100\n",
        "\n",
        "    86/86 221s 3s/step\n",
        "    loss: 0.6347 - accuracy: 0.7962 - val_loss: 0.7555 - val_accuracy: 0.7590\n",
        "\n",
        "Epoch 19/100\n",
        "\n",
        "    86/86 222s 3s/step\n",
        "    loss: 0.6346 - accuracy: 0.7972 - val_loss: 0.6924 - val_accuracy: 0.7693\n",
        "\n",
        "Epoch 20/100\n",
        "\n",
        "    86/86 221s 3s/step\n",
        "    loss: 0.6129 - accuracy: 0.8030 - val_loss: 0.7409 - val_accuracy: 0.7487\n",
        "\n",
        "Epoch 21/100\n",
        "\n",
        "    86/86 221s 3s/step\n",
        "    loss: 0.6148 - accuracy: 0.8003 - val_loss: 0.7472 - val_accuracy: 0.7506\n",
        "\n",
        "Epoch 22/100\n",
        "\n",
        "    86/86 220s 3s/step\n",
        "    loss: 0.6089 - accuracy: 0.8006 - val_loss: 0.7535 - val_accuracy: 0.7482\n",
        "\n",
        "Epoch 23/100\n",
        "\n",
        "    86/86 221s 3s/step\n",
        "    loss: 0.6190 - accuracy: 0.7992 - val_loss: 0.6893 - val_accuracy: 0.7665\n",
        "\n",
        "Epoch 24/100\n",
        "\n",
        "    86/86 221s 3s/step\n",
        "    loss: 0.5946 - accuracy: 0.8066 - val_loss: 0.6827 - val_accuracy: 0.7735\n",
        "\n",
        "Epoch 25/100\n",
        "\n",
        "    86/86 220s 3s/step\n",
        "    loss: 0.5791 - accuracy: 0.8080 - val_loss: 0.6900 - val_accuracy: 0.7693\n",
        "\n",
        "Epoch 26/100\n",
        "\n",
        "    86/86 219s 3s/step \n",
        "    loss: 0.5715 - accuracy: 0.8135 - val_loss: 0.7107 - val_accuracy: 0.7777\n",
        "\n",
        "Epoch 27/100\n",
        "\n",
        "    86/86 218s 3s/step\n",
        "    loss: 0.5796 - accuracy: 0.8149 - val_loss: 0.6540 - val_accuracy: 0.7857\n",
        "\n",
        "Epoch 28/100\n",
        "\n",
        "    86/86 219s 3s/step \n",
        "    loss: 0.5585 - accuracy: 0.8214 - val_loss: 0.7035 - val_accuracy: 0.7749\n",
        "\n",
        "Epoch 29/100\n",
        "\n",
        "    86/86 219s 3s/step \n",
        "    loss: 0.5629 - accuracy: 0.8176 - val_loss: 0.6828 - val_accuracy: 0.7726\n",
        "\n",
        "Epoch 30/100\n",
        "\n",
        "    86/86 219s 3s/step\n",
        "    loss: 0.5718 - accuracy: 0.8116 - val_loss: 0.6257 - val_accuracy: 0.7857\n",
        "\n",
        "Epoch 31/100\n",
        "\n",
        "    86/86 219s 3s/step\n",
        "    loss: 0.5507 - accuracy: 0.8168 - val_loss: 0.6094 - val_accuracy: 0.7978\n",
        "\n",
        "Epoch 32/100\n",
        "\n",
        "    86/86 218s 3s/step \n",
        "    loss: 0.5475 - accuracy: 0.8203 - val_loss: 0.6996 - val_accuracy: 0.7754\n",
        "\n",
        "Epoch 33/100\n",
        "\n",
        "    86/86 218s 3s/step \n",
        "    loss: 0.5594 - accuracy: 0.8181 - val_loss: 0.6899 - val_accuracy: 0.7735\n",
        "\n",
        "Epoch 34/100\n",
        "\n",
        "    86/86 218s 3s/step\n",
        "    loss: 0.5252 - accuracy: 0.8343 - val_loss: 0.6758 - val_accuracy: 0.7759\n",
        "\n",
        "Epoch 35/100\n",
        "\n",
        "    86/86 221s 3s/step\n",
        "    loss: 0.5527 - accuracy: 0.8163 - val_loss: 0.6711 - val_accuracy: 0.7936\n",
        "\n",
        "Epoch 36/100\n",
        "\n",
        "    86/86 219s 3s/step \n",
        "    loss: 0.5320 - accuracy: 0.8294 - val_loss: 0.6530 - val_accuracy: 0.7763\n",
        "\n",
        "Epoch 37/100\n",
        "\n",
        "    86/86 219s 3s/step\n",
        "    loss: 0.5380 - accuracy: 0.8312 - val_loss: 0.6487 - val_accuracy: 0.7927\n",
        "\n",
        "Epoch 38/100\n",
        "\n",
        "    86/86 219s 3s/step \n",
        "    loss: 0.5176 - accuracy: 0.8316 - val_loss: 0.7627 - val_accuracy: 0.7585\n",
        "\n",
        "Epoch 39/100\n",
        "\n",
        "    86/86 217s 3s/step\n",
        "    loss: 0.5376 - accuracy: 0.8287 - val_loss: 0.6738 - val_accuracy: 0.7838\n",
        "\n",
        "Epoch 40/100\n",
        "\n",
        "    86/86 218s 3s/step\n",
        "    loss: 0.5200 - accuracy: 0.8289 - val_loss: 0.6747 - val_accuracy: 0.7810\n",
        "\n",
        "Epoch 41/100\n",
        "\n",
        "    86/86 218s 3s/step\n",
        "    loss: 0.5299 - accuracy: 0.8293 - val_loss: 0.6942 - val_accuracy: 0.7861\n",
        "\n",
        "Epoch 42/100\n",
        "\n",
        "    86/86 218s 3s/step\n",
        "    loss: 0.5206 - accuracy: 0.8312 - val_loss: 0.6950 - val_accuracy: 0.7777\n",
        "\n",
        "Epoch 43/100\n",
        "\n",
        "    86/86 219s 3s/step \n",
        "    loss: 0.5124 - accuracy: 0.8357 - val_loss: 0.6637 - val_accuracy: 0.7712\n",
        "\n",
        "Epoch 44/100\n",
        "\n",
        "    86/86 219s 3s/step\n",
        "    loss: 0.4979 - accuracy: 0.8386 - val_loss: 0.7022 - val_accuracy: 0.7693\n",
        "\n",
        "Epoch 45/100\n",
        "\n",
        "    86/86 218s 3s/step\n",
        "    loss: 0.5225 - accuracy: 0.8307 - val_loss: 0.7160 - val_accuracy: 0.7646\n",
        "\n",
        "Epoch 46/100\n",
        "\n",
        "    86/86 219s 3s/step\n",
        "    loss: 0.5347 - accuracy: 0.8293 - val_loss: 0.7305 - val_accuracy: 0.7665\n",
        "\n",
        "Epoch 47/100\n",
        "\n",
        "    86/86 217s 3s/step\n",
        "    loss: 0.5049 - accuracy: 0.8360 - val_loss: 0.6272 - val_accuracy: 0.7899\n",
        "\n",
        "Epoch 48/100\n",
        "\n",
        "    86/86 217s 3s/step\n",
        "    loss: 0.5090 - accuracy: 0.8350 - val_loss: 0.6528 - val_accuracy: 0.7866\n",
        "\n",
        "Epoch 49/100\n",
        "\n",
        "    86/86 217s 3s/step\n",
        "    loss: 0.4988 - accuracy: 0.8411 - val_loss: 0.7675 - val_accuracy: 0.7623\n",
        "\n",
        "Epoch 50/100\n",
        "\n",
        "    86/86 221s 3s/step \n",
        "    loss: 0.4810 - accuracy: 0.8403 - val_loss: 0.7840 - val_accuracy: 0.7506\n",
        "\n",
        "Epoch 51/100\n",
        "\n",
        "    86/86 219s 3s/step\n",
        "    loss: 0.4761 - accuracy: 0.8456 - val_loss: 0.7442 - val_accuracy: 0.7707\n",
        "\n",
        "Epoch 52/100\n",
        "\n",
        "    86/86 217s 3s/step\n",
        "    loss: 0.4859 - accuracy: 0.8415 - val_loss: 0.6849 - val_accuracy: 0.7773\n",
        "\n",
        "Epoch 53/100\n",
        "\n",
        "    86/86 217s 3s/step \n",
        "    loss: 0.4857 - accuracy: 0.8417 - val_loss: 0.6423 - val_accuracy: 0.7857\n",
        "\n",
        "Epoch 54/100\n",
        "\n",
        "    86/86 217s 3s/step\n",
        "    loss: 0.4744 - accuracy: 0.8459 - val_loss: 0.7539 - val_accuracy: 0.7684\n",
        "\n",
        "Epoch 55/100\n",
        "\n",
        "    86/86 220s 3s/step\n",
        "    loss: 0.4892 - accuracy: 0.8371 - val_loss: 0.6543 - val_accuracy: 0.7885\n",
        "\n",
        "Epoch 56/100\n",
        "\n",
        "    86/86 219s 3s/step\n",
        "    loss: 0.4838 - accuracy: 0.8445 - val_loss: 0.6623 - val_accuracy: 0.7922\n",
        "\n",
        "Epoch 57/100\n",
        "\n",
        "    86/86 221s 3s/step\n",
        "    loss: 0.4801 - accuracy: 0.8429 - val_loss: 0.7131 - val_accuracy: 0.7721\n",
        "\n",
        "Epoch 58/100\n",
        "\n",
        "    86/86220s 3s/step\n",
        "    loss: 0.4752 - accuracy: 0.8441 - val_loss: 0.6724 - val_accuracy: 0.7927\n",
        "\n",
        "Epoch 59/100\n",
        "\n",
        "    86/86 220s 3s/step\n",
        "    loss: 0.4781 - accuracy: 0.8418 - val_loss: 0.7634 - val_accuracy: 0.7590\n",
        "\n",
        "Epoch 60/100\n",
        "\n",
        "    86/86 219s 3s/step\n",
        "    loss: 0.4680 - accuracy: 0.8423 - val_loss: 0.6911 - val_accuracy: 0.7894\n",
        "\n",
        "Epoch 61/100\n",
        "\n",
        "    86/86 217s 3s/step\n",
        "    loss: 0.4668 - accuracy: 0.8472 - val_loss: 0.7146 - val_accuracy: 0.7805\n",
        "\n",
        "Epoch 62/100\n",
        "\n",
        "    86/86 218s 3s/step\n",
        "    loss: 0.4654 - accuracy: 0.8472 - val_loss: 0.7101 - val_accuracy: 0.7745\n",
        "\n",
        "Epoch 63/100\n",
        "\n",
        "    86/86 219s 3s/step\n",
        "    loss: 0.4698 - accuracy: 0.8420 - val_loss: 0.7049 - val_accuracy: 0.7810\n",
        "\n",
        "Epoch 64/100\n",
        "\n",
        "    86/86 221s 3s/step\n",
        "    loss: 0.4499 - accuracy: 0.8526 - val_loss: 0.6607 - val_accuracy: 0.7927\n",
        "\n",
        "Epoch 65/100\n",
        "\n",
        "    86/86 222s 3s/step \n",
        "    loss: 0.4662 - accuracy: 0.8453 - val_loss: 0.7241 - val_accuracy: 0.7843\n",
        "\n",
        "Epoch 66/100\n",
        "\n",
        "    86/86 222s 3s/step\n",
        "    loss: 0.4394 - accuracy: 0.8574 - val_loss: 0.6386 - val_accuracy: 0.8011\n",
        "\n",
        "Epoch 67/100\n",
        "\n",
        "    86/86 220s 3s/step\n",
        "    loss: 0.4562 - accuracy: 0.8493 - val_loss: 0.7216 - val_accuracy: 0.7754\n",
        "\n",
        "Epoch 68/100\n",
        "\n",
        "    86/86 221s 3s/step\n",
        "    loss: 0.4514 - accuracy: 0.8575 - val_loss: 0.6576 - val_accuracy: 0.7847\n",
        "\n",
        "Epoch 69/100\n",
        "\n",
        "    86/86 221s 3s/step\n",
        "    loss: 0.4591 - accuracy: 0.8504 - val_loss: 0.6627 - val_accuracy: 0.7880\n",
        "\n",
        "Epoch 70/100\n",
        "\n",
        "    86/86 220s 3s/step\n",
        "    loss: 0.4513 - accuracy: 0.8569 - val_loss: 0.7096 - val_accuracy: 0.7791\n",
        "\n",
        "Epoch 71/100\n",
        "\n",
        "    86/86 221s 3s/step\n",
        "    loss: 0.4628 - accuracy: 0.8523 - val_loss: 0.6746 - val_accuracy: 0.7876\n",
        "\n",
        "Epoch 72/100\n",
        "\n",
        "    86/86 222s 3s/step\n",
        "    loss: 0.4532 - accuracy: 0.8511 - val_loss: 0.6520 - val_accuracy: 0.7974\n",
        "\n",
        "Epoch 73/100\n",
        "\n",
        "    86/86 222s 3s/step\n",
        "    loss: 0.4647 - accuracy: 0.8537 - val_loss: 0.6996 - val_accuracy: 0.7871\n",
        "\n",
        "Epoch 74/100\n",
        "\n",
        "    86/86 221s 3s/step\n",
        "    loss: 0.4530 - accuracy: 0.8509 - val_loss: 0.7288 - val_accuracy: 0.7801\n",
        "\n",
        "Epoch 75/100\n",
        "\n",
        "    86/86 221s 3s/step\n",
        "    loss: 0.4632 - accuracy: 0.8516 - val_loss: 0.6911 - val_accuracy: 0.7815\n",
        "\n",
        "Epoch 76/100\n",
        "\n",
        "    86/86 222s 3s/step\n",
        "    loss: 0.4537 - accuracy: 0.8529 - val_loss: 0.7241 - val_accuracy: 0.7861\n",
        "\n",
        "Epoch 77/100\n",
        "\n",
        "    86/86 222s 3s/step\n",
        "    loss: 0.4522 - accuracy: 0.8550 - val_loss: 0.6206 - val_accuracy: 0.8039\n",
        "\n",
        "Epoch 78/100\n",
        "\n",
        "    86/86 221s 3s/step\n",
        "    loss: 0.4211 - accuracy: 0.8581 - val_loss: 0.6933 - val_accuracy: 0.7861\n",
        "\n",
        "Epoch 79/100\n",
        "\n",
        "    86/86 222s 3s/step\n",
        "    loss: 0.4561 - accuracy: 0.8505 - val_loss: 0.6756 - val_accuracy: 0.7913\n",
        "\n",
        "Epoch 80/100\n",
        "\n",
        "    86/86 222s 3s/step\n",
        "    loss: 0.4385 - accuracy: 0.8572 - val_loss: 0.6367 - val_accuracy: 0.7805\n",
        "\n",
        "Epoch 81/100\n",
        "\n",
        "    86/86 220s 3s/step\n",
        "    loss: 0.4532 - accuracy: 0.8523 - val_loss: 0.6638 - val_accuracy: 0.7880\n",
        "\n",
        "Epoch 82/100\n",
        "    \n",
        "    86/86 221s 3s/step\n",
        "    loss: 0.4234 - accuracy: 0.8600 - val_loss: 0.7161 - val_accuracy: 0.7759\n",
        "\n",
        "Epoch 83/100\n",
        "\n",
        "    86/86 223s 3s/step\n",
        "    loss: 0.4209 - accuracy: 0.8635 - val_loss: 0.6702 - val_accuracy: 0.7988\n",
        "\n",
        "Epoch 84/100\n",
        "\n",
        "    86/86 223s 3s/step\n",
        "    loss: 0.4319 - accuracy: 0.8606 - val_loss: 0.7057 - val_accuracy: 0.7880\n",
        "\n",
        "Epoch 85/100\n",
        "\n",
        "    86/86 222s 3s/step\n",
        "    loss: 0.4299 - accuracy: 0.8634 - val_loss: 0.6718 - val_accuracy: 0.7857\n",
        "\n",
        "Epoch 86/100\n",
        "\n",
        "    86/86 223s 3s/step\n",
        "    loss: 0.4469 - accuracy: 0.8548 - val_loss: 0.7501 - val_accuracy: 0.7670\n",
        "\n",
        "Epoch 87/100\n",
        "\n",
        "    86/86 219s 3s/step\n",
        "    loss: 0.4400 - accuracy: 0.8530 - val_loss: 0.6762 - val_accuracy: 0.7843\n",
        "\n",
        "Epoch 88/100\n",
        "\n",
        "    86/86 219s 3s/step\n",
        "    loss: 0.4153 - accuracy: 0.8641 - val_loss: 0.6579 - val_accuracy: 0.7927\n",
        "\n",
        "Epoch 89/100\n",
        "\n",
        "    86/86 219s 3s/step\n",
        "    loss: 0.4222 - accuracy: 0.8633 - val_loss: 0.6184 - val_accuracy: 0.8053\n",
        "\n",
        "Epoch 90/100\n",
        "\n",
        "    86/86 219s 3s/step\n",
        "    loss: 0.4336 - accuracy: 0.8579 - val_loss: 0.6281 - val_accuracy: 0.8021\n",
        "\n",
        "Epoch 91/100\n",
        "\n",
        "    86/86 221s 3s/step\n",
        "    loss: 0.4142 - accuracy: 0.8669 - val_loss: 0.6897 - val_accuracy: 0.7946\n",
        "\n",
        "Epoch 92/100\n",
        "\n",
        "    86/86 221s 3s/step\n",
        "    loss: 0.4163 - accuracy: 0.8700 - val_loss: 0.7343 - val_accuracy: 0.7866\n",
        "\n",
        "Epoch 93/100\n",
        "\n",
        "    86/86 220s 3s/step\n",
        "    loss: 0.4218 - accuracy: 0.8592 - val_loss: 0.7181 - val_accuracy: 0.7876\n",
        "\n",
        "Epoch 94/100\n",
        "\n",
        "    86/86 219s 3s/step\n",
        "    loss: 0.4258 - accuracy: 0.8635 - val_loss: 0.6587 - val_accuracy: 0.8114\n",
        "\n",
        "Epoch 95/100\n",
        "\n",
        "    86/86 219s 3s/step\n",
        "    loss: 0.4192 - accuracy: 0.8641 - val_loss: 0.6452 - val_accuracy: 0.8067\n",
        "\n",
        "Epoch 96/100\n",
        "\n",
        "    86/86 220s 3s/step\n",
        "    loss: 0.4428 - accuracy: 0.8544 - val_loss: 0.6826 - val_accuracy: 0.7913\n",
        "\n",
        "Epoch 97/100\n",
        "\n",
        "    86/86 222s 3s/step\n",
        "    loss: 0.4036 - accuracy: 0.8691 - val_loss: 0.6777 - val_accuracy: 0.7876\n",
        "\n",
        "Epoch 98/100\n",
        "\n",
        "    86/86 221s 3s/step\n",
        "    loss: 0.4239 - accuracy: 0.8618 - val_loss: 0.7513 - val_accuracy: 0.7735\n",
        "\n",
        "Epoch 99/100\n",
        "\n",
        "    86/86 219s 3s/step\n",
        "    loss: 0.4159 - accuracy: 0.8676 - val_loss: 0.6255 - val_accuracy: 0.7997\n",
        "\n",
        "Epoch 100/100\n",
        "\n",
        "    86/86 220s 3s/step\n",
        "    loss: 0.4329 - accuracy: 0.8574 - val_loss: 0.6615 - val_accuracy: 0.8007\n",
        "\n",
        "    "
      ]
    }
  ]
}